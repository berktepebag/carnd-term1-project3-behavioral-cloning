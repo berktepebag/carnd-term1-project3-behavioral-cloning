{
 "cells": [
  {
   "cell_type": "code",
   "execution_count": 1,
   "metadata": {
    "collapsed": true,
    "scrolled": true
   },
   "outputs": [],
   "source": [
    "import csv\n",
    "import cv2\n",
    "import numpy as np\n",
    "import matplotlib.pyplot as plt\n",
    "import matplotlib.image as mpimg\n",
    "import os.path\n",
    "import sklearn\n",
    "from sklearn.model_selection import train_test_split\n",
    "from random import shuffle"
   ]
  },
  {
   "cell_type": "code",
   "execution_count": 2,
   "metadata": {
    "collapsed": true
   },
   "outputs": [],
   "source": [
    "def data_augmentation(images,measurements):\n",
    "    augmented_images, augmented_measurements=[],[]\n",
    "    \n",
    "    for image,measurement in zip(images,measurements):\n",
    "        augmented_images.append(image)\n",
    "        augmented_measurements.append(measurement)\n",
    "        augmented_images.append(np.fliplr(image))  \n",
    "        augmented_measurements.append(measurement*-1.0)       \n",
    "    return augmented_images, augmented_measurements"
   ]
  },
  {
   "cell_type": "code",
   "execution_count": 3,
   "metadata": {
    "collapsed": true
   },
   "outputs": [],
   "source": [
    "def multiple_cameras(lines,correction=0.2):\n",
    "    #with open('C:/Users/Desktop/Desktop/data/driving_log.csv') as csvfile:\n",
    "        #reader= csv.reader(csvfile)\n",
    "        \n",
    "    images=[]\n",
    "    steering_angles=[]\n",
    "    for line in lines:\n",
    "\n",
    "        steering_center = float(line[3])            \n",
    "\n",
    "        # create adjusted steering measurements for the side camera images\n",
    "        # correction is a parameter to tune\n",
    "        steering_left = steering_center + correction\n",
    "        steering_right = steering_center - correction\n",
    "\n",
    "        # read in images from center, left and right cameras\n",
    "        #path = \"C:/Users/Desktop/Desktop/data/IMG/\" # fill in the path to your training IMG directory\n",
    "        img_center = mpimg.imread(line[0])\n",
    "        img_left = mpimg.imread(line[1])\n",
    "        img_right = mpimg.imread(line[2])\n",
    "        #print(img_center,img_left,img_right)\n",
    "        # add images and angles to data set\n",
    "        images.extend([img_center,img_left, img_right])            \n",
    "        steering_angles.extend([steering_center, steering_left, steering_right])\n",
    "\n",
    "\n",
    "    #print(\"multiple camera: len of images: {} len of angles: {}\".format(len(images), len(steering_angles)))\n",
    "    return images, steering_angles\n",
    "            "
   ]
  },
  {
   "cell_type": "code",
   "execution_count": 4,
   "metadata": {
    "collapsed": true
   },
   "outputs": [],
   "source": [
    "def generator2(lines,batch_size=32):\n",
    "    \n",
    "    #print(\"len lines: {}\".format(len(lines)))\n",
    "    images=[]\n",
    "    steering_angles=[]\n",
    "    \n",
    "    #images,steering_angles = multiple_cameras(lines,correction=0.2)\n",
    "    \n",
    "    for line in lines:\n",
    "        source_path=line[0]\n",
    "        filename=source_path.split('/')[-1]\n",
    "        #print(filename) #C:\\version-control\\SDCND\\windows_sim\\windows_sim_Data\\IMG\\center_2017_07_22_16_32_26_815.jpg   \n",
    "        image=mpimg.imread(filename)\n",
    "        images.append(image)\n",
    "        steering_angle=float(line[3])\n",
    "        steering_angles.append(steering_angle) \n",
    "      \n",
    "    \n",
    "    images,steering_angles = data_augmentation(images,steering_angles)\n",
    "    \n",
    "    num_samples=len(images)    \n",
    "    print(\"num samples: {}\".format(num_samples))   \n",
    "    \n",
    "    \n",
    "    while 1:\n",
    "        #shuffle(images,steering_angles)\n",
    "        for offset in range(0,num_samples,batch_size):\n",
    "            #batches = lines[offset:offset+batch_size]\n",
    "            batch_images=images[offset:offset+batch_size]\n",
    "            batch_steering_angles=steering_angles[offset:offset+batch_size]\n",
    "       \n",
    "            X_train =np.array(batch_images)\n",
    "            y_train=np.array(batch_steering_angles)           \n",
    "\n",
    "            yield sklearn.utils.shuffle(X_train,y_train)\n",
    "            \n",
    "    #print(\"len of batch images: {}\".format(len(batch_images)))\n",
    "    #print(\"len of batch steering angles: {}\".format(len(steering_angles)))\n",
    "    "
   ]
  },
  {
   "cell_type": "code",
   "execution_count": 5,
   "metadata": {
    "scrolled": false
   },
   "outputs": [
    {
     "name": "stderr",
     "output_type": "stream",
     "text": [
      "Using TensorFlow backend.\n",
      "C:\\ProgramData\\Anaconda3\\envs\\carnd-term1\\lib\\site-packages\\ipykernel_launcher.py:30: UserWarning: Update your `Conv2D` call to the Keras 2 API: `Conv2D(3, (5, 5), activation=\"relu\")`\n",
      "C:\\ProgramData\\Anaconda3\\envs\\carnd-term1\\lib\\site-packages\\ipykernel_launcher.py:33: UserWarning: Update your `Conv2D` call to the Keras 2 API: `Conv2D(24, (5, 5), activation=\"relu\")`\n",
      "C:\\ProgramData\\Anaconda3\\envs\\carnd-term1\\lib\\site-packages\\ipykernel_launcher.py:36: UserWarning: Update your `Conv2D` call to the Keras 2 API: `Conv2D(36, (5, 5), activation=\"relu\")`\n",
      "C:\\ProgramData\\Anaconda3\\envs\\carnd-term1\\lib\\site-packages\\ipykernel_launcher.py:39: UserWarning: Update your `Conv2D` call to the Keras 2 API: `Conv2D(48, (3, 3), activation=\"relu\")`\n",
      "C:\\ProgramData\\Anaconda3\\envs\\carnd-term1\\lib\\site-packages\\ipykernel_launcher.py:55: UserWarning: The semantics of the Keras 2 argument `steps_per_epoch` is not the same as the Keras 1 argument `samples_per_epoch`. `steps_per_epoch` is the number of batches to draw from the generator at each epoch. Basically steps_per_epoch = samples_per_epoch/batch_size. Similarly `nb_val_samples`->`validation_steps` and `val_samples`->`steps` arguments have changed. Update your method calls accordingly.\n",
      "C:\\ProgramData\\Anaconda3\\envs\\carnd-term1\\lib\\site-packages\\ipykernel_launcher.py:55: UserWarning: Update your `fit_generator` call to the Keras 2 API: `fit_generator(<generator..., validation_steps=4844, validation_data=<generator..., steps_per_epoch=19370, epochs=1)`\n"
     ]
    },
    {
     "name": "stdout",
     "output_type": "stream",
     "text": [
      "Epoch 1/1\n",
      "num samples: 19370\n",
      "19369/19370 [============================>.] - ETA: 0s - loss: 0.0318num samples: 4844\n",
      "19370/19370 [==============================] - 2183s - loss: 0.0318 - val_loss: 0.0394\n",
      "model saved.\n"
     ]
    }
   ],
   "source": [
    "#if(os.path.isfile(\"/model.h5\")):\n",
    "#    print(\"file already exits!\")\n",
    "\n",
    "EPOCHS=1\n",
    "BATCH_SIZE=32\n",
    "\n",
    "lines=  []\n",
    "\n",
    "with open('C:/Users/Desktop/Desktop/data/driving_log.csv') as csvfile:\n",
    "    reader= csv.reader(csvfile)\n",
    "    for line in reader:        \n",
    "        lines.append(line)   \n",
    "\n",
    "train_samples, validation_samples = train_test_split(lines,test_size=0.2)\n",
    "\n",
    "train_generator = generator2(train_samples,batch_size=BATCH_SIZE)\n",
    "validation_generator = generator2(validation_samples,batch_size=BATCH_SIZE)\n",
    "\n",
    "from keras.models import Sequential, Model\n",
    "from keras.layers.core import Dense, Activation, Flatten, Dropout, Lambda\n",
    "#from keras.layers import Flatten, Dense, Lambda\n",
    "from keras.layers.convolutional import Conv2D\n",
    "from keras.layers.pooling import MaxPooling2D\n",
    "from keras.layers import Cropping2D\n",
    "\n",
    "model=Sequential()\n",
    "\n",
    "model.add(Lambda(lambda x: x/255.0-0.5, input_shape=(160,320,3)))\n",
    "model.add(Cropping2D(cropping=((70,25), (0,0)), input_shape=(160,320,3)))\n",
    "model.add(Conv2D(3,5,5,activation=\"relu\"))\n",
    "#model.add(MaxPooling2D())\n",
    "#model.add(Dropout(0.5))\n",
    "model.add(Conv2D(24,5,5,activation=\"relu\"))\n",
    "model.add(MaxPooling2D())\n",
    "model.add(Dropout(0.5))\n",
    "model.add(Conv2D(36,5,5,activation=\"relu\"))\n",
    "#model.add(MaxPooling2D())\n",
    "#model.add(Dropout(0.5))\n",
    "model.add(Conv2D(48,3,3,activation=\"relu\"))\n",
    "model.add(MaxPooling2D())\n",
    "model.add(Dropout(0.5))\n",
    "'''\n",
    "model.add(Conv2D(64,3,3,activation=\"relu\"))\n",
    "model.add(MaxPooling2D())\n",
    "model.add(Dropout(0.5))\n",
    "'''\n",
    "model.add(Flatten())\n",
    "model.add(Dense(120))\n",
    "model.add(Dense(84))\n",
    "model.add(Dense(1))\n",
    "\n",
    "model.compile(loss='mse', optimizer='adam')\n",
    "#model.fit(X_train,y_train, validation_split=0.2, shuffle=True, epochs=EPOCHS)\n",
    "model.fit_generator(train_generator, samples_per_epoch=2*len(train_samples), validation_data=validation_generator, \n",
    "            nb_val_samples=2*len(validation_samples), nb_epoch=EPOCHS)\n",
    "\n",
    "model.save('model.h5')\n",
    "print(\"model saved.\")"
   ]
  },
  {
   "cell_type": "code",
   "execution_count": null,
   "metadata": {
    "collapsed": true
   },
   "outputs": [],
   "source": []
  }
 ],
 "metadata": {
  "kernelspec": {
   "display_name": "Python 3",
   "language": "python",
   "name": "python3"
  },
  "language_info": {
   "codemirror_mode": {
    "name": "ipython",
    "version": 3
   },
   "file_extension": ".py",
   "mimetype": "text/x-python",
   "name": "python",
   "nbconvert_exporter": "python",
   "pygments_lexer": "ipython3",
   "version": "3.5.2"
  },
  "widgets": {
   "state": {},
   "version": "1.1.2"
  }
 },
 "nbformat": 4,
 "nbformat_minor": 2
}
